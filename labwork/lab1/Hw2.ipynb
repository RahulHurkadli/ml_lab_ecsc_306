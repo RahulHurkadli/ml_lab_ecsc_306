{
 "cells": [
  {
   "cell_type": "code",
   "execution_count": 1,
   "metadata": {},
   "outputs": [
    {
     "name": "stdout",
     "output_type": "stream",
     "text": [
      "49\n"
     ]
    }
   ],
   "source": [
    "import tensorflow as tf\n",
    "with tf.name_scope(\"FINAL_RESULT\"): \n",
    "   \n",
    "    with tf.name_scope('A'):\n",
    "        a = 6\n",
    "        b = tf.pow(a, 2)\n",
    "        \n",
    "    with tf.name_scope(\"B\"):\n",
    "        c = 2\n",
    "        d = tf.pow(c, 2)\n",
    "    with tf.name_scope(\"C\"):\n",
    "        e = 1\n",
    "        f = tf.pow(e, 2)    \n",
    "    with tf.name_scope(\"A_B\"):\n",
    "        g = tf.add(b, d)\n",
    "    with tf.name_scope(\"A_B_C\"):\n",
    "        h = tf.add(g, f)    \n",
    "        \n",
    "    with tf.name_scope(\"2AB\"):  \n",
    "        i = tf.multiply(2,tf.multiply(a,c))\n",
    "        \n",
    "    with tf.name_scope(\"2BC\"):    \n",
    "        j = tf.multiply(2,tf.multiply(c,e)) \n",
    "        \n",
    "    with tf.name_scope(\"2CA\"):    \n",
    "        k = tf.multiply(2,tf.multiply(e,a))\n",
    "    \n",
    "    with tf.name_scope(\"A_B_C_2AB\"):    \n",
    "        l = tf.add(h, i)\n",
    "        \n",
    "    with tf.name_scope(\"A_B_C_2AB_2BC\"):  \n",
    "        m = tf.subtract(l, j)\n",
    "        \n",
    "    with tf.name_scope(\"A_B_C_2AB_2BC_2CA\"):    \n",
    "        n = tf.subtract(m, k)\n",
    "          \n",
    "\n",
    "with tf.Session() as sess:\n",
    "    writer = tf.summary.FileWriter(\"/tmp/tboard/output2\", sess.graph)\n",
    "    print(sess.run(n))\n",
    "    writer.close()\t"
   ]
  },
  {
   "cell_type": "code",
   "execution_count": null,
   "metadata": {
    "collapsed": true
   },
   "outputs": [],
   "source": []
  },
  {
   "cell_type": "code",
   "execution_count": null,
   "metadata": {
    "collapsed": true
   },
   "outputs": [],
   "source": []
  }
 ],
 "metadata": {
  "kernelspec": {
   "display_name": "Python 3",
   "language": "python",
   "name": "python3"
  },
  "language_info": {
   "codemirror_mode": {
    "name": "ipython",
    "version": 3
   },
   "file_extension": ".py",
   "mimetype": "text/x-python",
   "name": "python",
   "nbconvert_exporter": "python",
   "pygments_lexer": "ipython3",
   "version": "3.6.1"
  }
 },
 "nbformat": 4,
 "nbformat_minor": 2
}
