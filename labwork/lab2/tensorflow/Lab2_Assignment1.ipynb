{
 "cells": [
  {
   "cell_type": "code",
   "execution_count": 1,
   "metadata": {
    "collapsed": true
   },
   "outputs": [],
   "source": [
    "\n",
    "from __future__ import print_function\n",
    "\n",
    "import tensorflow as tf\n",
    "import numpy\n",
    "import matplotlib.pyplot as plt\n",
    "rng = numpy.random\n",
    "\n",
    "# for Trial - dataset = [[1, 1], [2, 3], [4, 3], [3, 2], [5, 5]]\n",
    "learning_rate = 0.005\n",
    "training_epochs = 1000\n",
    "display_step = 50\n",
    "\n",
    "\n",
    "train_X = numpy.asarray([1.,2.,4.,3.,5.])\n",
    "train_Y = numpy.asarray([1.,3.,3.,2.,5.])\n",
    "n_samples = train_X.shape[0]\n",
    "\n",
    "\n",
    "X = tf.placeholder(\"float\")\n",
    "Y = tf.placeholder(\"float\")\n",
    "\n",
    "\n",
    "W = tf.Variable(rng.randn(), name=\"weight\")\n",
    "b = tf.Variable(rng.randn(), name=\"bias\")\n",
    "\n",
    "\n",
    "pred = tf.add(tf.multiply(X, W), b)\n",
    "\n",
    "\n",
    "cost = tf.reduce_sum(tf.pow(pred-Y, 2))/(2*n_samples)\n"
   ]
  },
  {
   "cell_type": "code",
   "execution_count": 2,
   "metadata": {},
   "outputs": [
    {
     "name": "stdout",
     "output_type": "stream",
     "text": [
      "Epoch: 0050 cost= 0.369771898 W= 1.0566 b= -0.727363\n",
      "Epoch: 0100 cost= 0.343687266 W= 1.0921 b= -0.66795\n",
      "Epoch: 0150 cost= 0.335230589 W= 1.08239 b= -0.623161\n",
      "Epoch: 0200 cost= 0.327522576 W= 1.07088 b= -0.580845\n",
      "Epoch: 0250 cost= 0.320441008 W= 1.05974 b= -0.540318\n",
      "Epoch: 0300 cost= 0.313934028 W= 1.04905 b= -0.501476\n",
      "Epoch: 0350 cost= 0.307954729 W= 1.0388 b= -0.464246\n",
      "Epoch: 0400 cost= 0.302460313 W= 1.02898 b= -0.428562\n",
      "Epoch: 0450 cost= 0.297411442 W= 1.01957 b= -0.39436\n",
      "Epoch: 0500 cost= 0.292771876 W= 1.01055 b= -0.361578\n",
      "Epoch: 0550 cost= 0.288508475 W= 1.0019 b= -0.330157\n",
      "Epoch: 0600 cost= 0.284590542 W= 0.993612 b= -0.300041\n",
      "Epoch: 0650 cost= 0.280990154 W= 0.985669 b= -0.271176\n",
      "Epoch: 0700 cost= 0.277681649 W= 0.978055 b= -0.243509\n",
      "Epoch: 0750 cost= 0.274641097 W= 0.970757 b= -0.216991\n",
      "Epoch: 0800 cost= 0.271846831 W= 0.963762 b= -0.191574\n",
      "Epoch: 0850 cost= 0.269278944 W= 0.957058 b= -0.167213\n",
      "Epoch: 0900 cost= 0.266918957 W= 0.950632 b= -0.143863\n",
      "Epoch: 0950 cost= 0.264750063 W= 0.944473 b= -0.121483\n",
      "Epoch: 1000 cost= 0.262756735 W= 0.93857 b= -0.100032\n",
      "Optimization Finished!\n",
      "Training cost= 0.262757 W= 0.93857 b= -0.100032 \n",
      "\n"
     ]
    },
    {
     "data": {
      "image/png": "[encoded data removed]",
      "text/plain": [
       "<matplotlib.figure.Figure at 0x7f88b4017d30>"
      ]
     },
     "metadata": {},
     "output_type": "display_data"
    },
    {
     "name": "stdout",
     "output_type": "stream",
     "text": [
      "Testing... (Mean square loss Comparison)\n",
      "Testing cost= 5.47066\n",
      "Absolute mean square loss difference: 5.20791\n"
     ]
    },
    {
     "data": {
      "image/png": "[encoded data removed]",
      "text/plain": [
       "<matplotlib.figure.Figure at 0x7f8893871400>"
      ]
     },
     "metadata": {},
     "output_type": "display_data"
    }
   ],
   "source": [
    "\n",
    "optimizer = tf.train.GradientDescentOptimizer(learning_rate).minimize(cost)\n",
    "\n",
    "\n",
    "init = tf.global_variables_initializer()\n",
    "\n",
    "\n",
    "with tf.Session() as sess:\n",
    "\n",
    "   \n",
    "    sess.run(init)\n",
    "\n",
    "    \n",
    "    for epoch in range(training_epochs):\n",
    "        for (x, y) in zip(train_X, train_Y):\n",
    "            sess.run(optimizer, feed_dict={X: x, Y: y})\n",
    "\n",
    "        \n",
    "        if (epoch+1) % display_step == 0:\n",
    "            c = sess.run(cost, feed_dict={X: train_X, Y:train_Y})\n",
    "            print(\"Epoch:\", '%04d' % (epoch+1), \"cost=\", \"{:.9f}\".format(c), \\\n",
    "                \"W=\", sess.run(W), \"b=\", sess.run(b))\n",
    "\n",
    "    print(\"Optimization Finished!\")\n",
    "    training_cost = sess.run(cost, feed_dict={X: train_X, Y: train_Y})\n",
    "    print(\"Training cost=\", training_cost, \"W=\", sess.run(W), \"b=\", sess.run(b), '\\n')\n",
    "\n",
    "    \n",
    "    plt.plot(train_X, train_Y, 'ro', label='Original data')\n",
    "    plt.plot(train_X, sess.run(W) * train_X + sess.run(b), label='Fitted line')\n",
    "    plt.legend()\n",
    "    plt.show()\n",
    "\n",
    "   \n",
    "    test_X = numpy.asarray([5.,6.,4.,1.])\n",
    "    test_Y = numpy.asarray([1.,4.,7.,5.])\n",
    "\n",
    "    print(\"Testing... (Mean square loss Comparison)\")\n",
    "    testing_cost = sess.run(\n",
    "        tf.reduce_sum(tf.pow(pred - Y, 2)) / (2 * test_X.shape[0]),\n",
    "        feed_dict={X: test_X, Y: test_Y})  # same function as cost above\n",
    "    print(\"Testing cost=\", testing_cost)\n",
    "    print(\"Absolute mean square loss difference:\", abs(\n",
    "        training_cost - testing_cost))\n",
    "\n",
    "    plt.plot(test_X, test_Y, 'bo', label='Testing data')\n",
    "    plt.plot(train_X, sess.run(W) * train_X + sess.run(b), label='Fitted line')\n",
    "    plt.legend()\n",
    "    plt.show()"
   ]
  },
  {
   "cell_type": "code",
   "execution_count": null,
   "metadata": {
    "collapsed": true
   },
   "outputs": [],
   "source": []
  }
 ],
 "metadata": {
  "kernelspec": {
   "display_name": "Python 3",
   "language": "python",
   "name": "python3"
  },
  "language_info": {
   "codemirror_mode": {
    "name": "ipython",
    "version": 3
   },
   "file_extension": ".py",
   "mimetype": "text/x-python",
   "name": "python",
   "nbconvert_exporter": "python",
   "pygments_lexer": "ipython3",
   "version": "3.6.1"
  }
 },
 "nbformat": 4,
 "nbformat_minor": 2
}
