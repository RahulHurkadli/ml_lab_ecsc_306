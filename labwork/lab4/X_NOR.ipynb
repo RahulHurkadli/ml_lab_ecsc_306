{
 "cells": [
  {
   "cell_type": "code",
   "execution_count": 2,
   "metadata": {},
   "outputs": [
    {
     "name": "stdout",
     "output_type": "stream",
     "text": [
      "iteration=  0 cost=  0.855881\n",
      "iteration=  1000 cost=  0.691217\n",
      "iteration=  2000 cost=  0.688615\n",
      "iteration=  3000 cost=  0.686177\n",
      "iteration=  4000 cost=  0.683482\n",
      "iteration=  5000 cost=  0.68035\n",
      "iteration=  6000 cost=  0.676608\n",
      "iteration=  7000 cost=  0.672069\n",
      "iteration=  8000 cost=  0.666508\n",
      "iteration=  9000 cost=  0.659655\n",
      "iteration=  10000 cost=  0.65119\n",
      "iteration=  11000 cost=  0.640741\n",
      "iteration=  12000 cost=  0.627915\n",
      "Validating output for XNOR GATE\n",
      "[[ 0.52120328]\n",
      " [ 0.36136335]\n",
      " [ 0.57157105]\n",
      " [ 0.56896335]]\n",
      "[[-0.39732867 -1.89557815 -0.44877204  0.6289804   2.47072458]\n",
      " [ 0.11723637 -0.08434558 -1.23869026  1.46985078 -2.03940439]]\n"
     ]
    }
   ],
   "source": [
    "import tensorflow as tf\n",
    "import numpy as np\n",
    "x=tf.placeholder(tf.float32,shape=[None,2])\n",
    "y=tf.placeholder(tf.float32,shape=[None,1])\n",
    "\n",
    "weights=tf.Variable(tf.random_normal([2,5]),dtype=tf.float32)\n",
    "bias=tf.Variable(tf.random_normal([5]),dtype=tf.float32)\n",
    "\n",
    "multiply1=tf.add(tf.matmul(x,weights),bias)\n",
    "z=tf.sigmoid(multiply1)\n",
    "\n",
    "w_output = tf.Variable(tf.random_normal([5,1]))\n",
    "output = tf.sigmoid(tf.matmul(z,w_output))\n",
    "\n",
    "cost = tf.reduce_mean((y*tf.log(output)+(1-y)*tf.log(1-output))*-1)\n",
    "optimizer = tf.train.GradientDescentOptimizer(0.01).minimize(cost)\n",
    "#cost = tf.reduce_mean(tf.square(y - output))\n",
    "#optimizer = tf.train.AdamOptimizer(0.001).minimize(cost)\n",
    "\n",
    "inp = np.array([[0,0],[0,1],[1,0],[1,1]])\n",
    "op = np.array([[1],[0],[0],[1]])\n",
    "with tf.Session() as sess:\n",
    "\n",
    "    tf.global_variables_initializer().run()\n",
    "    for i in range(12001):\n",
    "        res,_= sess.run([cost,optimizer],feed_dict={x:inp,y:op})\n",
    "        if i%1000==0:\n",
    "            print (\"iteration= \",i,\"cost= \",res)\n",
    "    print (\"Validating output for XNOR GATE\")\n",
    "    result=sess.run(output,feed_dict={x:inp})\n",
    "    print (result)\n",
    "    print(sess.run(weights))\n"
   ]
  },
  {
   "cell_type": "code",
   "execution_count": null,
   "metadata": {
    "collapsed": true
   },
   "outputs": [],
   "source": []
  },
  {
   "cell_type": "code",
   "execution_count": null,
   "metadata": {
    "collapsed": true
   },
   "outputs": [],
   "source": []
  }
 ],
 "metadata": {
  "kernelspec": {
   "display_name": "Python 3",
   "language": "python",
   "name": "python3"
  },
  "language_info": {
   "codemirror_mode": {
    "name": "ipython",
    "version": 3
   },
   "file_extension": ".py",
   "mimetype": "text/x-python",
   "name": "python",
   "nbconvert_exporter": "python",
   "pygments_lexer": "ipython3",
   "version": "3.6.1"
  }
 },
 "nbformat": 4,
 "nbformat_minor": 2
}
